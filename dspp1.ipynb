{
 "cells": [
  {
   "cell_type": "code",
   "execution_count": 1,
   "id": "1d98a269-6ec0-4797-9055-108bbe014c63",
   "metadata": {},
   "outputs": [],
   "source": [
    "# Step 1: Import tinycss2 and defaultdict\n",
    "import tinycss2\n",
    "from collections import defaultdict"
   ]
  },
  {
   "cell_type": "code",
   "execution_count": 2,
   "id": "69cd839d-7719-41ea-b3a2-d57b33c19878",
   "metadata": {},
   "outputs": [],
   "source": [
    "# Step 2: Read and parse the CSS file\n",
    "with open('Auction.css', 'r') as css_file:\n",
    "    css_content = css_file.read()\n",
    "rules = tinycss2.parse_stylesheet(css_content, skip_comments=True, skip_whitespace=True)\n"
   ]
  },
  {
   "cell_type": "code",
   "execution_count": 3,
   "id": "fdabf036-4dac-4de9-b0d6-933d672c5123",
   "metadata": {},
   "outputs": [],
   "source": [
    "# Step 3: Prepare data structures for analysis\n",
    "property_counter = defaultdict(int)\n",
    "value_counter = defaultdict(lambda: defaultdict(int))"
   ]
  },
  {
   "cell_type": "code",
   "execution_count": 7,
   "id": "c16eef36-4f91-464a-9bed-aa695a0e5d72",
   "metadata": {},
   "outputs": [],
   "source": [
    "\n",
    "# Step 4: Analyze CSS rules\n",
    "for rule in rules:\n",
    "    if rule.type == 'qualified-rule':  # Only process qualified rules\n",
    "        declarations = tinycss2.parse_blocks_contents(rule.content)\n",
    "        for declaration in declarations:\n",
    "            if declaration.type == 'declaration':\n",
    "                prop = declaration.name\n",
    "                if isinstance(declaration.value, list):\n",
    "                    value = ''.join(token.serialize() for token in declaration.value)\n",
    "                else:\n",
    "                    value = declaration.value.serialize()  # Use .serialize() if it's a single token\n",
    "\n",
    "                # Count the occurrences of properties\n",
    "                property_counter[prop] += 1\n",
    "                value_counter[prop][value] += 1"
   ]
  },
  {
   "cell_type": "code",
   "execution_count": 6,
   "id": "2681d039-0ecb-41d0-9b8c-5db855d2e689",
   "metadata": {},
   "outputs": [
    {
     "name": "stdout",
     "output_type": "stream",
     "text": [
      "CSS Properties Summary Report\n",
      "========================================\n",
      "Property: display (Used 4 times)\n",
      "  Most common value:  flex (Used 4 times)\n",
      "----------------------------------------\n",
      "Property: justify-content (Used 4 times)\n",
      "  Most common value:  space-between (Used 3 times)\n",
      "----------------------------------------\n",
      "Property: padding (Used 7 times)\n",
      "  Most common value:  20px (Used 3 times)\n",
      "----------------------------------------\n",
      "Property: font-family (Used 1 times)\n",
      "  Most common value:  \"Roboto\", sans-serif (Used 1 times)\n",
      "----------------------------------------\n",
      "Property: background (Used 1 times)\n",
      "  Most common value:  linear-gradient(135deg, #2b5876, #4e4376) (Used 1 times)\n",
      "----------------------------------------\n",
      "Property: color (Used 13 times)\n",
      "  Most common value:  #ffdf00 (Used 6 times)\n",
      "----------------------------------------\n",
      "Property: width (Used 4 times)\n",
      "  Most common value:  97vw (Used 1 times)\n",
      "----------------------------------------\n",
      "Property: height (Used 2 times)\n",
      "  Most common value:  86vh (Used 1 times)\n",
      "----------------------------------------\n",
      "Property: box-sizing (Used 1 times)\n",
      "  Most common value:  border-box (Used 1 times)\n",
      "----------------------------------------\n",
      "Property: border-radius (Used 8 times)\n",
      "  Most common value:  8px (Used 3 times)\n",
      "----------------------------------------\n",
      "Property: box-shadow (Used 3 times)\n",
      "  Most common value:  0 4px 8px rgba(0, 0, 0, 0.1) (Used 1 times)\n",
      "----------------------------------------\n",
      "Property: font-size (Used 9 times)\n",
      "  Most common value:  16px (Used 3 times)\n",
      "----------------------------------------\n",
      "Property: text-align (Used 2 times)\n",
      "  Most common value:  center (Used 2 times)\n",
      "----------------------------------------\n",
      "Property: transition (Used 3 times)\n",
      "  Most common value:  text-shadow 0.3s ease (Used 1 times)\n",
      "----------------------------------------\n",
      "Property: text-shadow (Used 1 times)\n",
      "  Most common value:  0 0 10px #ffdf00, 0 0 20px #ffdf00, 0 0 30px #ffdf00 (Used 1 times)\n",
      "----------------------------------------\n",
      "Property: border (Used 4 times)\n",
      "  Most common value:  1px solid rgba(255, 255, 255, 0.2) (Used 2 times)\n",
      "----------------------------------------\n",
      "Property: background-color (Used 11 times)\n",
      "  Most common value:  rgba(255, 255, 255, 0.1) (Used 3 times)\n",
      "----------------------------------------\n",
      "Property: object-fit (Used 1 times)\n",
      "  Most common value:  cover (Used 1 times)\n",
      "----------------------------------------\n",
      "Property: margin-bottom (Used 8 times)\n",
      "  Most common value:  10px (Used 3 times)\n",
      "----------------------------------------\n",
      "Property: font-weight (Used 4 times)\n",
      "  Most common value:  bold (Used 2 times)\n",
      "----------------------------------------\n",
      "Property: text-transform (Used 1 times)\n",
      "  Most common value:  uppercase (Used 1 times)\n",
      "----------------------------------------\n",
      "Property: margin-left (Used 1 times)\n",
      "  Most common value:  15px (Used 1 times)\n",
      "----------------------------------------\n",
      "Property: min-width (Used 1 times)\n",
      "  Most common value:  max-content (Used 1 times)\n",
      "----------------------------------------\n",
      "Property: margin-top (Used 2 times)\n",
      "  Most common value:  10px (Used 1 times)\n",
      "----------------------------------------\n",
      "Property: margin-right (Used 2 times)\n",
      "  Most common value:  100px (Used 1 times)\n",
      "----------------------------------------\n",
      "Property: cursor (Used 4 times)\n",
      "  Most common value:  pointer (Used 2 times)\n",
      "----------------------------------------\n",
      "Property: text-decoration (Used 1 times)\n",
      "  Most common value:  line-through (Used 1 times)\n",
      "----------------------------------------\n",
      "Property: align-items (Used 1 times)\n",
      "  Most common value:  center (Used 1 times)\n",
      "----------------------------------------\n",
      "Property: gap (Used 1 times)\n",
      "  Most common value:  30px (Used 1 times)\n",
      "----------------------------------------\n"
     ]
    }
   ],
   "source": [
    "# Step 5: Generate and print the summary report\n",
    "print(\"CSS Properties Summary Report\")\n",
    "print(\"=\" * 40)\n",
    "for prop, count in property_counter.items():\n",
    "    print(f\"Property: {prop} (Used {count} times)\")\n",
    "    if value_counter[prop]:  # Check if there are any values recorded\n",
    "        most_common_value = max(value_counter[prop], key=value_counter[prop].get)\n",
    "        print(f\"  Most common value: {most_common_value} (Used {value_counter[prop][most_common_value]} times)\")\n",
    "    print(\"-\" * 40)"
   ]
  },
  {
   "cell_type": "code",
   "execution_count": 9,
   "id": "2b1b6153-d14c-4cd7-90c0-0854a05e01e9",
   "metadata": {},
   "outputs": [
    {
     "name": "stdout",
     "output_type": "stream",
     "text": [
      "             selector  display  padding  font-family    color  font-size\n",
      "0  .auction-container        1       20            1  #ffffff         16\n",
      "1              .timer        0       10            0  #000000         14\n"
     ]
    }
   ],
   "source": [
    "import pandas as pd\n",
    "\n",
    "# Example dataset structure\n",
    "data = [\n",
    "    {'selector': '.auction-container', 'display': 'flex', 'padding': 20, 'font-family': 'Roboto', 'color': '#ffffff', 'font-size': 16},\n",
    "    {'selector': '.timer', 'display': 'block', 'padding': 10, 'font-family': 'Arial', 'color': '#000000', 'font-size': 14},\n",
    "    # More CSS rules here...\n",
    "]\n",
    "\n",
    "# Convert to DataFrame\n",
    "df = pd.DataFrame(data)\n",
    "\n",
    "# Convert categorical columns like 'font-family' and 'display' into numerical values\n",
    "df['font-family'] = df['font-family'].astype('category').cat.codes\n",
    "df['display'] = df['display'].astype('category').cat.codes\n",
    "\n",
    "# Now df contains numerical and categorical values ready for ML model training\n",
    "print(df)"
   ]
  }
 ],
 "metadata": {
  "kernelspec": {
   "display_name": "Python 3 (ipykernel)",
   "language": "python",
   "name": "python3"
  },
  "language_info": {
   "codemirror_mode": {
    "name": "ipython",
    "version": 3
   },
   "file_extension": ".py",
   "mimetype": "text/x-python",
   "name": "python",
   "nbconvert_exporter": "python",
   "pygments_lexer": "ipython3",
   "version": "3.11.9"
  }
 },
 "nbformat": 4,
 "nbformat_minor": 5
}
