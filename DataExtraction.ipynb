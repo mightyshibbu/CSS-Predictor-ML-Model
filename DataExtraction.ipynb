{
 "cells": [
  {
   "cell_type": "code",
   "execution_count": 1,
   "id": "18015d02-0890-4c2b-8493-a69f3bd09f83",
   "metadata": {},
   "outputs": [],
   "source": [
    "# Step 1: Import necessary libraries\n",
    "import tinycss2\n",
    "from collections import defaultdict\n",
    "import csv  # Import csv module to save as a CSV file\n"
   ]
  },
  {
   "cell_type": "code",
   "execution_count": 2,
   "id": "8a1cb0ac-7369-488f-946e-4e3d82eef7d9",
   "metadata": {},
   "outputs": [],
   "source": [
    "# Step 2: Read and parse the CSS file\n",
    "with open('styles2.css', 'r') as css_file:\n",
    "    css_content = css_file.read()\n",
    "rules = tinycss2.parse_stylesheet(css_content, skip_comments=True, skip_whitespace=True)"
   ]
  },
  {
   "cell_type": "code",
   "execution_count": 3,
   "id": "c084b7a0-5755-44f3-839f-27e3cb41a630",
   "metadata": {},
   "outputs": [],
   "source": [
    "# Step 3: Prepare data structures for analysis\n",
    "table_data = []  # List to hold rows of data\n",
    "\n",
    "# Step 4: Map of CSS properties to column indices\n",
    "property_columns = {\n",
    "    'display': 0,\n",
    "    'padding': 1,\n",
    "    'font-family': 2,\n",
    "    'color': 3,\n",
    "    'font-size': 4\n",
    "}"
   ]
  },
  {
   "cell_type": "code",
   "execution_count": 4,
   "id": "257d89c9-ebe5-49bd-b39b-6c005cab86a3",
   "metadata": {},
   "outputs": [],
   "source": [
    "\n",
    "# Step 5: Process each rule and collect data for the table\n",
    "for rule in rules:\n",
    "    if rule.type == 'qualified-rule':  # Only process qualified rules\n",
    "        selector = ''.join([token.serialize() for token in rule.prelude]).strip()\n",
    "        declarations = tinycss2.parse_blocks_contents(rule.content)\n",
    "\n",
    "        # Create a dictionary to store property values for the current selector\n",
    "        row_data = {\n",
    "            'selector': selector,\n",
    "            'display': None,\n",
    "            'padding': None,\n",
    "            'font-family': None,\n",
    "            'color': None,\n",
    "            'font-size': None\n",
    "        }\n",
    "\n",
    "        for declaration in declarations:\n",
    "            if declaration.type == 'declaration':\n",
    "                prop = declaration.name\n",
    "                if isinstance(declaration.value, list):\n",
    "                    value = ''.join(token.serialize() for token in declaration.value) #strip() try\n",
    "                else:\n",
    "                    value = declaration.value.serialize()\n",
    "\n",
    "                # Store the property value in the appropriate column\n",
    "                if prop in row_data:\n",
    "                    row_data[prop] = value\n",
    "\n",
    "        # Append the row data to the table data\n",
    "        table_data.append(row_data)\n"
   ]
  },
  {
   "cell_type": "code",
   "execution_count": 5,
   "id": "0a255f0c-9352-46bb-900a-d8bbdb2aeebc",
   "metadata": {},
   "outputs": [
    {
     "name": "stdout",
     "output_type": "stream",
     "text": [
      "Data has been successfully saved to css_properties_output2.csv\n"
     ]
    }
   ],
   "source": [
    "# Step 6: Define the CSV filename\n",
    "csv_filename = 'css_properties_output2.csv'\n",
    "\n",
    "# Step 7: Write the table data to a CSV file\n",
    "header = ['selector', 'display', 'padding', 'font-family', 'color', 'font-size']\n",
    "\n",
    "with open(csv_filename, mode='w', newline='') as file:\n",
    "    writer = csv.DictWriter(file, fieldnames=header)\n",
    "\n",
    "    # Write the header\n",
    "    writer.writeheader()\n",
    "\n",
    "    # Write the data rows\n",
    "    for row in table_data:\n",
    "        writer.writerow(row)\n",
    "\n",
    "print(f\"Data has been successfully saved to {csv_filename}\")"
   ]
  }
 ],
 "metadata": {
  "kernelspec": {
   "display_name": "Python 3 (ipykernel)",
   "language": "python",
   "name": "python3"
  },
  "language_info": {
   "codemirror_mode": {
    "name": "ipython",
    "version": 3
   },
   "file_extension": ".py",
   "mimetype": "text/x-python",
   "name": "python",
   "nbconvert_exporter": "python",
   "pygments_lexer": "ipython3",
   "version": "3.11.9"
  }
 },
 "nbformat": 4,
 "nbformat_minor": 5
}
